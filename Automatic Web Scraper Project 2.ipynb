{
 "cells": [
  {
   "cell_type": "code",
   "execution_count": 10,
   "id": "8b36050c",
   "metadata": {},
   "outputs": [],
   "source": [
    "from bs4 import BeautifulSoup\n",
    "import requests\n",
    "import pandas as pd\n",
    "from datetime import datetime\n",
    "import os\n",
    "import time"
   ]
  },
  {
   "cell_type": "code",
   "execution_count": 11,
   "id": "bfb0b689",
   "metadata": {},
   "outputs": [],
   "source": [
    "def fetch_data():\n",
    "    \n",
    "    #Fetches Bitcoin price data from the website\n",
    "    url = \"https://coinmarketcap.com/currencies/bitcoin/\"\n",
    "    \n",
    "    try:\n",
    "        response = requests.get(url)\n",
    "        response.raise_for_status()  # Raises an error for bad responses (4xx, 5xx)\n",
    "        \n",
    "        # Parse HTML\n",
    "        soup = BeautifulSoup(response.text, \"html.parser\")\n",
    "        price_element = soup.find(\"span\", class_=\"sc-65e7f566-0 WXGwg base-text\")\n",
    "\n",
    "        if price_element:\n",
    "            return pd.Timestamp.now(), price_element.text.strip()\n",
    "        else:\n",
    "            print(\"[ERROR] Could not find the price element.\")\n",
    "            return None, None\n",
    "    except requests.RequestException as e:\n",
    "        print(f\"[ERROR] Network request failed: {e}\")\n",
    "        return None, None\n"
   ]
  },
  {
   "cell_type": "code",
   "execution_count": 12,
   "id": "8cc137d8",
   "metadata": {},
   "outputs": [],
   "source": [
    "def save_data(timestamp, price):\n",
    "    \n",
    "    #Saves the scraped data to a CSV file\n",
    "    if timestamp and price:\n",
    "        df = pd.DataFrame([[timestamp, price]], columns=[\"Timestamp\", \"Price\"])\n",
    "\n",
    "        # Check if the CSV file already exists to determine if headers are needed\n",
    "        file_path = r'C:\\Users\\Randy Bartolon\\OneDrive\\Desktop\\python_work\\Crypto Web Puller\\Crypto_Automated_Pull.csv'\n",
    "        file_exists = os.path.exists(file_path)\n",
    "        df.to_csv(file_path, mode='a', header=not file_exists, index=False)\n",
    "\n",
    "        print(f\"[INFO] {timestamp} - Bitcoin price recorded: {price}\")\n",
    "        "
   ]
  },
  {
   "cell_type": "code",
   "execution_count": null,
   "id": "6afb4983",
   "metadata": {},
   "outputs": [
    {
     "name": "stdout",
     "output_type": "stream",
     "text": [
      "[INFO] 2025-02-28 10:17:43.605468 - Bitcoin price recorded: $83,273.56\n"
     ]
    }
   ],
   "source": [
    "# Infinite loop to fetch and store data every hour\n",
    "\n",
    "while True:\n",
    "    timestamp, price = fetch_data()\n",
    "    save_data(timestamp, price)\n",
    "    \n",
    "    # Wait for 1 hour before running again\n",
    "    time.sleep(3600)"
   ]
  }
 ],
 "metadata": {
  "kernelspec": {
   "display_name": "Python 3 (ipykernel)",
   "language": "python",
   "name": "python3"
  },
  "language_info": {
   "codemirror_mode": {
    "name": "ipython",
    "version": 3
   },
   "file_extension": ".py",
   "mimetype": "text/x-python",
   "name": "python",
   "nbconvert_exporter": "python",
   "pygments_lexer": "ipython3",
   "version": "3.10.9"
  }
 },
 "nbformat": 4,
 "nbformat_minor": 5
}
